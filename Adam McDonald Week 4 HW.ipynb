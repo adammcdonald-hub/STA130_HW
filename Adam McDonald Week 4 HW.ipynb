{
 "cells": [
  {
   "cell_type": "markdown",
   "id": "4fc7bf6b",
   "metadata": {},
   "source": [
    "# Pre-lecture HW Q1"
   ]
  },
  {
   "cell_type": "markdown",
   "id": "636c2458",
   "metadata": {},
   "source": [
    "The standard deviation and the standard error of the mean are both measures of variability. However, they differ in their scope, measure of variability, and relationship with sample size. They each capture distinct ideas. The standard deviation measures the dispersion of individual data points in a sample or population, with larger deviations indicating a wider range of values and smaller ones indicating clustering around the mean. On the other hand, the standard error of the mean quantifies the variability or uncertainty of the sample mean as an estimate of the true population mean. The standard deviation does not depend on sample size, while the standard error of the mean decreases as sample size increases, implying larger samples lead to more precise estimates of the population mean."
   ]
  },
  {
   "cell_type": "markdown",
   "id": "c1996ebc",
   "metadata": {},
   "source": [
    "# Pre-lecture HW Q2"
   ]
  },
  {
   "cell_type": "markdown",
   "id": "7b1d0a63",
   "metadata": {},
   "source": [
    "The following formula can be used to create a 95% confidence interval that covers approximately 95% of the bootstrapped sample means using the standard error of the mean:\n",
    "$\\bar{x} \\pm (1.96 * s_{\\bar{x}})$\n",
    "In this formula, $\\bar{x}$ refers to the sample mean, 1.96 represents the critical value associated with a 95% confidence level in a standard normal distribution, and $s_{\\bar{x}}$ is the standard error of the mean.\n",
    "The Central Limit Theorem (CLT), which predicts that sample mean distributions will be roughly normal and centered on population means with a standard deviation equal to the standard error of the mean, is the source of this formula. "
   ]
  },
  {
   "cell_type": "markdown",
   "id": "a3ac3339",
   "metadata": {},
   "source": [
    "# Pre-lecture HW Q3"
   ]
  },
  {
   "cell_type": "markdown",
   "id": "e30403d4",
   "metadata": {},
   "source": [
    "By applying the np.quantile() function to the collection of bootstrapped sample means, you can get a 95% bootstrapped confidence interval as an alternative to utilizing the \"sample mean plus and minus about 2 times the standard error. First, determine the means of the bootstrapped sample by repeatedly resampling and substituting values from the original sample to generate a large number of simulated bootstrap samples. Determine the mean value for every one of these bootstrap samples. Second, locate the percentiles by utilizing the np.quantile() method to determine the bootstrapped sample means' 2.5th and 97.5th percentiles. The intended 95% confidence level is corresponding to the difference of 95% between 97.5% and 2.5%. After this, the 95% bootstrapped confidence interval will be the region between the 2.5th and 97.5th percentiles."
   ]
  },
  {
   "cell_type": "markdown",
   "id": "29191c76",
   "metadata": {},
   "source": [
    "Summary for the Chatbot session for questions 1, 2, and 3:\n",
    "\n",
    "The conversation explored the difference between the standard error of the mean and standard deviation, and how to construct a 95% confidence interval using both the standard error and the bootstrapping method.\n",
    "\n",
    "● You initially asked about the difference between the standard error of the mean and the standard deviation. The standard deviation measures the variability of individual data points within a sample or population. In contrast, the standard error of the mean quantifies the uncertainty in using the sample mean to estimate the population mean.\n",
    "\n",
    "● You then asked how to construct a confidence interval using the standard error of the mean. The response explained that a 95% confidence interval can be approximated by adding and subtracting 1.96 times the standard error of the mean from the sample mean. However, it emphasized that this method relies on the Central Limit Theorem, which might not hold true for small sample sizes or non-normal data.\n",
    "\n",
    "● Finally, you asked about constructing a 95% confidence interval using bootstrapping, specifically without relying on the standard error. The response detailed the process: repeatedly resample the original data with replacement to generate multiple bootstrap samples, calculate the mean of each bootstrap sample, and then identify the 2.5th and 97.5th percentiles of these bootstrapped means to define the confidence interval. This method directly utilizes the distribution of the bootstrapped means to estimate the range where the population mean is likely to fall.\n",
    "The sources provided emphasize a simulation-based understanding of these concepts. The conversation highlighted the importance of understanding the difference between sample statistics and population parameters, and how bootstrapping can provide a more robust way to construct confidence intervals compared to methods relying solely on the standard error, especially when dealing with non-normal distributions or smaller sample sizes."
   ]
  },
  {
   "cell_type": "markdown",
   "id": "e1cb6f29",
   "metadata": {},
   "source": [
    "# Pre-lecture HW Q4"
   ]
  },
  {
   "cell_type": "code",
   "execution_count": 11,
   "id": "91e4ca84",
   "metadata": {},
   "outputs": [
    {
     "name": "stdout",
     "output_type": "stream",
     "text": [
      "95% Bootstrap Confidence Interval for Population Mean: [-9. -9.]\n"
     ]
    }
   ],
   "source": [
    "import numpy as np\n",
    "\n",
    "# Define the sample data\n",
    "sample = np.array([1-10])\n",
    "\n",
    "# Make the number of bootstrap samples 10000 (the chatbot suggested 1000 but I thought bigger couldn't hurt):\n",
    "num_bootstrap_samples = 10000\n",
    "\n",
    "# Create an empty array to store the bootstrapped sample means\n",
    "bootstrapped_means = np.empty(num_bootstrap_samples)\n",
    "\n",
    "# Perform bootstrapping in a bootstrapping loop\n",
    "for i in range(num_bootstrap_samples):\n",
    "    # Resample with replacement to generate a bootstrap sample\n",
    "    bootstrap_sample = np.random.choice(sample, size=len(sample), replace=True)\n",
    "    # Calculate the mean of the bootstrap sample (the following line is the one that can be changed to\n",
    "    # calculate the confidence interval for the population median by changing np.mean to np.median in \n",
    "    # the bootstrapping loop: bootstrapped_medians[i] = np.median(bootstrap_sample instead.)\n",
    "    bootstrapped_means[i] = np.mean(bootstrap_sample)\n",
    "\n",
    "# Calculate the 2.5th and 97.5th percentiles of the bootstrapped sample means\n",
    "confidence_interval = np.percentile(bootstrapped_means, [2.5, 97.5])\n",
    "\n",
    "# Print the 95% bootstrap confidence interval for the population mean\n",
    "print(\"95% Bootstrap Confidence Interval for Population Mean:\", confidence_interval)\n"
   ]
  },
  {
   "cell_type": "markdown",
   "id": "ed69723e",
   "metadata": {},
   "source": [
    "Summary:\n",
    "\n",
    "You requested code to produce a 95% bootstrap confidence interval for a population mean from a sample, and you also wanted to know how to modify the code to calculate confidence intervals for different population parameters like the median.\n",
    "The provided code demonstrates how to calculate a 95% bootstrap confidence interval for both the population mean and median using Python. Let's break down the key concepts embedded in the code:\n",
    "\n",
    "● Resampling with Replacement: The code implements bootstrapping by resampling the original data with replacement, simulating the process of drawing multiple samples from the population.\n",
    "\n",
    "● Sampling Distribution: Through repeated resampling and calculation of the desired statistic (mean or median in this case), the code effectively simulates the sampling distribution of that statistic, which represents the variability of the statistic across different samples from the same population.\n",
    "\n",
    "● Confidence Interval as Percentiles: The 95% confidence interval is then constructed by taking the 2.5th and 97.5th percentiles of the simulated sampling distribution. This means that we are 95% confident that the true population parameter (mean or median) falls within this interval.\n",
    "\n",
    "● Flexibility of Bootstrapping: The code highlights the flexibility of bootstrapping by demonstrating how to easily modify the function to calculate confidence intervals for various statistics, not just the mean.\n",
    "\n",
    "In essence, this code provides a practical implementation of bootstrapping to estimate the uncertainty associated with sample statistics and construct confidence intervals for population parameters."
   ]
  },
  {
   "cell_type": "markdown",
   "id": "641aabbd",
   "metadata": {},
   "source": [
    "# Post-lecture HW Q5"
   ]
  },
  {
   "cell_type": "markdown",
   "id": "179578cd",
   "metadata": {},
   "source": [
    "When working with confidence intervals, it's crucial to differentiate between population parameters and sample statistics. Population parameters describe characteristics of an entire population, such as the population mean or standard deviation. These values are usually unknown and are used to estimate in statistics. Sample statistics, on the other hand, are calculated from a sample of data taken from the population, such as the sample mean or standard deviation. Confidence intervals are constructed using sample statistics to estimate a range within which the true population parameter lies. The goal of a confidence interval is to provide a range of plausible values for the unknown population parameter, not the sample statistic itself."
   ]
  },
  {
   "cell_type": "markdown",
   "id": "32590e69",
   "metadata": {},
   "source": [
    "# Post-lecture HW Q6"
   ]
  },
  {
   "cell_type": "markdown",
   "id": "73b0ec84",
   "metadata": {},
   "source": [
    "1. \n",
    "The process of bootstrapping is the process of treating a small sample like a much larger by multiplying the sample, but by randomly choosing parts of the sample and allowing for repeats. For example, imagine you had a massive bean-bag filled with different coloured beans. It would take an immensly long time to count the ratio of the colours of all the beans. So instead you can use bootstrapping. In this example, you would take a handful of beans and count the ratio of colours. Say you ended up with 8 blue beans, 5 red beans, and 2 orange beans. Using a computer, you would then make a bunch of random combinations of those colours, (as if you were picking from a bag of just those 15 beans, but putting the bean you picked back in the bag before picking again). You would then use that average of that new data to estimate the ratio of colours in the bean-bag."
   ]
  },
  {
   "cell_type": "markdown",
   "id": "74a47159",
   "metadata": {},
   "source": [
    "2. \n",
    "The main purpose of bootstrapping is to estimate the uncertainty associated with a statistic calculated from a sample. In the bean-bag example, you're not just interested in the percentage of blue beans in your single handful, but how much this percentage could vary if you took different handfuls. Bootstrapping helps you understand how reliable your estimate of the true percentage of blue beans is."
   ]
  },
  {
   "cell_type": "markdown",
   "id": "b21a5785",
   "metadata": {},
   "source": [
    "3. \n",
    "Let's say you think the average height of students in your school (the population) is 5'8\" (your hypothesis). You measure the height of 30 students (your sample).\n",
    "First, you'd calculate the average height of the students in your sample. Then, you'd use bootstrapping to create many new samples (of the same size as your original sample) by randomly selecting students from your original sample, allowing for the same student to be selected multiple times. For each of these new samples, you'd calculate the average height. This gives you a distribution of sample means. You'd then use this distribution to create a 95% confidence interval, which is a range of values within which you are 95% confident that the true population mean lies. If your hypothesized average height of 5'8\" falls within this confidence interval, then your hypothesis is considered plausible. If not, your hypothesis might be incorrect.\n",
    "This process helps you determine if your initial guess about the average height was reasonable based on the information from your sample and considering the uncertainty."
   ]
  },
  {
   "cell_type": "markdown",
   "id": "f8bb43ff",
   "metadata": {},
   "source": [
    "# Post-lecture HW Q7"
   ]
  },
  {
   "cell_type": "markdown",
   "id": "1e29fadd",
   "metadata": {},
   "source": [
    "A confidence interval overlapping zero does not reject the null hypothesis, even when the observed sample mean statistic is not zero. This is because the confidence interval captures the uncertainty associated with the sample mean. The observed sample mean is just one data point, and a non-zero sample mean from a population where the true mean is zero can be obtained due to random chance. To reject the null hypothesis, the entire confidence interval must be entirely on one side of zero, either positive or negative, indicating strong evidence against the true population mean. This means the null hypothesis is rejected when the evidence against it is strong enough to overcome the uncertainty."
   ]
  },
  {
   "cell_type": "markdown",
   "id": "3ace86fa",
   "metadata": {},
   "source": [
    "# Post-lecture HW Q8"
   ]
  },
  {
   "cell_type": "markdown",
   "id": "6e8b4559",
   "metadata": {},
   "source": [
    "Meaning of a Null Hypothesis of \"no effect\" in this context:\n",
    "\n",
    "The null hypothesis is a statistical tool used to examine the effectiveness of a vaccine. It suggests that the vaccine does not influence health scores, but this does not necessarily mean it has zero impact. The primary goal is to determine if there is sufficient evidence to refute this null hypothesis by examining the observed data, specifically the difference in health scores before and after administering the vaccine. The \"no effect\" null hypothesis suggests that any difference between these scores is solely due to random variation, not the vaccine's influence. To test this hypothesis, the data is analyzed to determine the average difference in health scores and assess the variability of this difference. The concept of on average is crucial, as it focuses on the overall effect of the vaccine on the entire group rather than individual patients. The objective is not to definitively prove or disprove the null hypothesis, but to determine whether the observed data provide sufficient evidence to reject the notion that the vaccine has no impact on health scores."
   ]
  },
  {
   "cell_type": "code",
   "execution_count": 4,
   "id": "ae3ac494",
   "metadata": {
    "scrolled": false
   },
   "outputs": [
    {
     "ename": "ValueError",
     "evalue": "The truth value of an array with more than one element is ambiguous. Use a.any() or a.all()",
     "output_type": "error",
     "traceback": [
      "\u001b[0;31m---------------------------------------------------------------------------\u001b[0m",
      "\u001b[0;31mValueError\u001b[0m                                Traceback (most recent call last)",
      "Cell \u001b[0;32mIn[4], line 43\u001b[0m\n\u001b[1;32m     40\u001b[0m plt\u001b[38;5;241m.\u001b[39mylabel(\u001b[38;5;124m'\u001b[39m\u001b[38;5;124mFrequency\u001b[39m\u001b[38;5;124m'\u001b[39m)\n\u001b[1;32m     42\u001b[0m \u001b[38;5;66;03m# Add vertical lines for the confidence interval\u001b[39;00m\n\u001b[0;32m---> 43\u001b[0m \u001b[43mplt\u001b[49m\u001b[38;5;241;43m.\u001b[39;49m\u001b[43maxvline\u001b[49m\u001b[43m(\u001b[49m\u001b[43mconfidence_interval\u001b[49m\u001b[43m,\u001b[49m\u001b[43m \u001b[49m\u001b[43mcolor\u001b[49m\u001b[38;5;241;43m=\u001b[39;49m\u001b[38;5;124;43m'\u001b[39;49m\u001b[38;5;124;43mred\u001b[39;49m\u001b[38;5;124;43m'\u001b[39;49m\u001b[43m,\u001b[49m\u001b[43m \u001b[49m\u001b[43mlinestyle\u001b[49m\u001b[38;5;241;43m=\u001b[39;49m\u001b[38;5;124;43m'\u001b[39;49m\u001b[38;5;124;43m--\u001b[39;49m\u001b[38;5;124;43m'\u001b[39;49m\u001b[43m,\u001b[49m\u001b[43m \u001b[49m\u001b[43mlabel\u001b[49m\u001b[38;5;241;43m=\u001b[39;49m\u001b[38;5;124;43m'\u001b[39;49m\u001b[38;5;124;43m95\u001b[39;49m\u001b[38;5;124;43m%\u001b[39;49m\u001b[38;5;124;43m CI\u001b[39;49m\u001b[38;5;124;43m'\u001b[39;49m\u001b[43m)\u001b[49m\n\u001b[1;32m     44\u001b[0m plt\u001b[38;5;241m.\u001b[39maxvline(confidence_interval[\u001b[38;5;241m1\u001b[39m], color\u001b[38;5;241m=\u001b[39m\u001b[38;5;124m'\u001b[39m\u001b[38;5;124mred\u001b[39m\u001b[38;5;124m'\u001b[39m, linestyle\u001b[38;5;241m=\u001b[39m\u001b[38;5;124m'\u001b[39m\u001b[38;5;124m--\u001b[39m\u001b[38;5;124m'\u001b[39m)\n\u001b[1;32m     46\u001b[0m \u001b[38;5;66;03m# Add a legend\u001b[39;00m\n",
      "File \u001b[0;32m/opt/conda/lib/python3.11/site-packages/matplotlib/pyplot.py:2716\u001b[0m, in \u001b[0;36maxvline\u001b[0;34m(x, ymin, ymax, **kwargs)\u001b[0m\n\u001b[1;32m   2714\u001b[0m \u001b[38;5;129m@_copy_docstring_and_deprecators\u001b[39m(Axes\u001b[38;5;241m.\u001b[39maxvline)\n\u001b[1;32m   2715\u001b[0m \u001b[38;5;28;01mdef\u001b[39;00m \u001b[38;5;21maxvline\u001b[39m(x: \u001b[38;5;28mfloat\u001b[39m \u001b[38;5;241m=\u001b[39m \u001b[38;5;241m0\u001b[39m, ymin: \u001b[38;5;28mfloat\u001b[39m \u001b[38;5;241m=\u001b[39m \u001b[38;5;241m0\u001b[39m, ymax: \u001b[38;5;28mfloat\u001b[39m \u001b[38;5;241m=\u001b[39m \u001b[38;5;241m1\u001b[39m, \u001b[38;5;241m*\u001b[39m\u001b[38;5;241m*\u001b[39mkwargs) \u001b[38;5;241m-\u001b[39m\u001b[38;5;241m>\u001b[39m Line2D:\n\u001b[0;32m-> 2716\u001b[0m     \u001b[38;5;28;01mreturn\u001b[39;00m \u001b[43mgca\u001b[49m\u001b[43m(\u001b[49m\u001b[43m)\u001b[49m\u001b[38;5;241;43m.\u001b[39;49m\u001b[43maxvline\u001b[49m\u001b[43m(\u001b[49m\u001b[43mx\u001b[49m\u001b[38;5;241;43m=\u001b[39;49m\u001b[43mx\u001b[49m\u001b[43m,\u001b[49m\u001b[43m \u001b[49m\u001b[43mymin\u001b[49m\u001b[38;5;241;43m=\u001b[39;49m\u001b[43mymin\u001b[49m\u001b[43m,\u001b[49m\u001b[43m \u001b[49m\u001b[43mymax\u001b[49m\u001b[38;5;241;43m=\u001b[39;49m\u001b[43mymax\u001b[49m\u001b[43m,\u001b[49m\u001b[43m \u001b[49m\u001b[38;5;241;43m*\u001b[39;49m\u001b[38;5;241;43m*\u001b[39;49m\u001b[43mkwargs\u001b[49m\u001b[43m)\u001b[49m\n",
      "File \u001b[0;32m/opt/conda/lib/python3.11/site-packages/matplotlib/axes/_axes.py:849\u001b[0m, in \u001b[0;36mAxes.axvline\u001b[0;34m(self, x, ymin, ymax, **kwargs)\u001b[0m\n\u001b[1;32m    847\u001b[0m \u001b[38;5;66;03m# Strip away the units for comparison with non-unitized bounds.\u001b[39;00m\n\u001b[1;32m    848\u001b[0m xx, \u001b[38;5;241m=\u001b[39m \u001b[38;5;28mself\u001b[39m\u001b[38;5;241m.\u001b[39m_process_unit_info([(\u001b[38;5;124m\"\u001b[39m\u001b[38;5;124mx\u001b[39m\u001b[38;5;124m\"\u001b[39m, x)], kwargs)\n\u001b[0;32m--> 849\u001b[0m scalex \u001b[38;5;241m=\u001b[39m \u001b[43m(\u001b[49m\u001b[43mxx\u001b[49m\u001b[43m \u001b[49m\u001b[38;5;241;43m<\u001b[39;49m\u001b[43m \u001b[49m\u001b[43mxmin\u001b[49m\u001b[43m)\u001b[49m\u001b[43m \u001b[49m\u001b[38;5;129;43;01mor\u001b[39;49;00m\u001b[43m \u001b[49m\u001b[43m(\u001b[49m\u001b[43mxx\u001b[49m\u001b[43m \u001b[49m\u001b[38;5;241;43m>\u001b[39;49m\u001b[43m \u001b[49m\u001b[43mxmax\u001b[49m\u001b[43m)\u001b[49m\n\u001b[1;32m    851\u001b[0m trans \u001b[38;5;241m=\u001b[39m \u001b[38;5;28mself\u001b[39m\u001b[38;5;241m.\u001b[39mget_xaxis_transform(which\u001b[38;5;241m=\u001b[39m\u001b[38;5;124m'\u001b[39m\u001b[38;5;124mgrid\u001b[39m\u001b[38;5;124m'\u001b[39m)\n\u001b[1;32m    852\u001b[0m l \u001b[38;5;241m=\u001b[39m mlines\u001b[38;5;241m.\u001b[39mLine2D([x, x], [ymin, ymax], transform\u001b[38;5;241m=\u001b[39mtrans, \u001b[38;5;241m*\u001b[39m\u001b[38;5;241m*\u001b[39mkwargs)\n",
      "\u001b[0;31mValueError\u001b[0m: The truth value of an array with more than one element is ambiguous. Use a.any() or a.all()"
     ]
    },
    {
     "data": {
      "image/png": "[encoded data removed]",
      "text/plain": [
       "<Figure size 640x480 with 1 Axes>"
      ]
     },
     "metadata": {},
     "output_type": "display_data"
    }
   ],
   "source": [
    "import pandas as pd\n",
    "import numpy as np\n",
    "import matplotlib.pyplot as plt\n",
    "\n",
    "# Load the data\n",
    "data = pd.DataFrame({\n",
    "    'PatientID': [1, 2, 3, 4, 5, 6, 7, 8, 9, 10],\n",
    "    'Age': [45, 34, 29, 52, 37, 41, 33, 48, 26, 39],\n",
    "    'Gender': ['M', 'F', 'M', 'F', 'M', 'F', 'M', 'F', 'M', 'F'],\n",
    "    'InitialHealthScore': [84, 78, 83, 81, 81, 80, 79, 85, 76, 83],\n",
    "    'FinalHealthScore': [86, 86, 80, 86, 84, 86, 86, 82, 83, 84]\n",
    "})\n",
    "\n",
    "# Calculate the difference in health scores\n",
    "data['Difference'] = data['FinalHealthScore'] - data['InitialHealthScore']\n",
    "\n",
    "# Set the number of bootstrap samples\n",
    "n_bootstrap_samples = 10000\n",
    "\n",
    "# Create an empty list to store the bootstrapped mean differences\n",
    "bootstrapped_mean_differences = []\n",
    "\n",
    "# Set a random seed for reproducibility\n",
    "np.random.seed(42)\n",
    "\n",
    "# Generate the bootstrap samples and calculate the mean difference for each\n",
    "for i in range(n_bootstrap_samples):\n",
    "    # Sample with replacement from the original data\n",
    "    bootstrap_sample = data['Difference'].sample(frac=1, replace=True)\n",
    "    # Calculate the mean of the bootstrap sample\n",
    "    bootstrapped_mean_differences.append(bootstrap_sample.mean())\n",
    "\n",
    "# Calculate the 95% confidence interval\n",
    "confidence_interval = np.percentile(bootstrapped_mean_differences, [2.5, 97.5])\n",
    "\n",
    "# Plot the histogram of the bootstrapped mean differences\n",
    "plt.hist(bootstrapped_mean_differences, bins=20, edgecolor='black')\n",
    "plt.title('Bootstrapped Distribution of Mean Health Score Differences')\n",
    "plt.xlabel('Mean Difference in Health Scores')\n",
    "plt.ylabel('Frequency')\n",
    "\n",
    "# Add vertical lines for the confidence interval\n",
    "plt.axvline(confidence_interval, color='red', linestyle='--', label='95% CI')\n",
    "plt.axvline(confidence_interval[1], color='red', linestyle='--')\n",
    "\n",
    "# Add a legend\n",
    "plt.legend()\n",
    "\n",
    "# Display the plot\n",
    "plt.show()"
   ]
  },
  {
   "cell_type": "markdown",
   "id": "2ae9c90a",
   "metadata": {},
   "source": [
    "This code offers a quantitative and graphical examination of the vaccination data. The distribution of the mean differences in health scores is shown in the histogram, which provides information on the range of the estimated vaccine effect. The range that you would anticipate the genuine population mean difference to fall inside 95% of the time is visually represented by the confidence interval superimposed over the histogram. Compared to only depending on the average effect, this enables a more nuanced interpretation of the outcomes."
   ]
  },
  {
   "cell_type": "code",
   "execution_count": 8,
   "id": "5e84ae51",
   "metadata": {},
   "outputs": [
    {
     "name": "stdout",
     "output_type": "stream",
     "text": [
      "   PatientID  Age Gender  InitialHealthScore  FinalHealthScore  Difference\n",
      "0          1   45      M                  84                86           2\n",
      "1          2   34      F                  78                86           8\n",
      "2          3   29      M                  83                80          -3\n",
      "3          4   52      F                  81                86           5\n",
      "4          5   37      M                  81                84           3\n",
      "5          6   41      F                  80                86           6\n",
      "6          7   33      M                  79                86           7\n",
      "7          8   48      F                  85                82          -3\n",
      "8          9   26      M                  76                83           7\n",
      "9         10   39      F                  83                84           1\n"
     ]
    }
   ],
   "source": [
    "import pandas as pd\n",
    "\n",
    "data = {'PatientID': [1, 2, 3, 4, 5, 6, 7, 8, 9, 10],\n",
    "    'Age': [45, 34, 29, 52, 37, 41, 33, 48, 26, 39],\n",
    "    'Gender': ['M', 'F', 'M', 'F', 'M', 'F', 'M', 'F', 'M', 'F'],\n",
    "    'InitialHealthScore': [84, 78, 83, 81, 81, 80, 79, 85, 76, 83],\n",
    "    'FinalHealthScore': [86, 86, 80, 86, 84, 86, 86, 82, 83, 84]\n",
    "}\n",
    "\n",
    "df = pd.DataFrame(data)\n",
    "df['Difference'] = df['FinalHealthScore'] - df['InitialHealthScore']\n",
    "print(df)"
   ]
  },
  {
   "cell_type": "markdown",
   "id": "220e40d9",
   "metadata": {},
   "source": [
    "This code first creates a pandas DataFrame using the supplied data. It then calculates the difference between the 'FinalHealthScore' and 'InitialHealthScore' for each patient and stores these differences in a new column named 'Difference'. Our visualization efforts will center on this 'Difference' column, which shows the change in health ratings that we are utilizing to evaluate the vaccine's efficacy."
   ]
  },
  {
   "cell_type": "code",
   "execution_count": 9,
   "id": "033301eb",
   "metadata": {
    "scrolled": false
   },
   "outputs": [
    {
     "data": {
      "image/png": "[encoded data removed]",
      "text/plain": [
       "<Figure size 640x480 with 1 Axes>"
      ]
     },
     "metadata": {},
     "output_type": "display_data"
    }
   ],
   "source": [
    "import matplotlib.pyplot as plt\n",
    "plt.hist(df['Difference'], bins = 5)\n",
    "plt.xlabel('Health Score Difference')\n",
    "plt.ylabel('Frequency')\n",
    "plt.title('Distribution of Health Score Differences')\n",
    "plt.show()"
   ]
  },
  {
   "cell_type": "markdown",
   "id": "5e716daf",
   "metadata": {},
   "source": [
    "This code generates a histogram of the 'Difference' column. The 'bins' parameter is set to 5, which determines the number of bars in the histogram."
   ]
  },
  {
   "cell_type": "markdown",
   "id": "77246a8e",
   "metadata": {},
   "source": [
    "Conclusion:\n",
    "\n",
    "If The Null Hypothesis is true for this data, then the vaccine has no effect on health scores. This implies that any observed differences in health scores before and after the vaccine are due to random chance rather than a genuine effect of the vaccine. However, this is not the case, as the 95% confidence interval does not cover 0. In the case of this vaccine data, the 95% confidence interval being completely on the positive side of 0 suggests that the vaccine does have a positive effect on the patience's health score."
   ]
  },
  {
   "cell_type": "markdown",
   "id": "492d181d",
   "metadata": {},
   "source": [
    "There are multiple factors that would need to be considered further when looking at the vaccine data.\n",
    "Firstly, there are confounding variables, such as whether the patient might have already been getting better, that would need to be considered.  Secondly, the ages of the patients in the dataset vary. It's plausible that age plays a role in how individuals respond to vaccines or experience health changes. Thirdly, gender could also be a confounding factor as it also varies in the dataset. Finally, The initial health score provides a snapshot, but other underlying health conditions or lifestyle factors, not captured in the data, could contribute to the observed differences. There are also other possible factors, such as long-term effects, that would need to be considered futher."
   ]
  },
  {
   "cell_type": "markdown",
   "id": "adfb9f1e",
   "metadata": {},
   "source": [
    "Summary:\n",
    "\n",
    "Our conversation focused on analyzing a small dataset of vaccine data you provided. You specifically asked for support in visualizing the data and drawing conclusions regarding the vaccine's effectiveness. The sources you provided, primarily course materials from STA130, were instrumental in guiding our analysis and highlighting key considerations.\n",
    "Visualizing the Data:\n",
    "We started by calculating the difference in health scores (FinalHealthScore - InitialHealthScore) for each patient, creating a 'Difference' column in the DataFrame. This column, representing the change in health after vaccination, became our focus for visualization. Following the recommendations in the sources, we used a histogram to visualize the distribution of these health score differences.\n",
    "Key Considerations from the Sources (Visualization):\n",
    "\n",
    "● Source: The sources emphasize using histograms for visualizing the frequency of numerical data like our 'Difference' column ().\n",
    "\n",
    "● Source: They also stress the importance of clear labels and informative annotations in visualizations (). We made sure our histogram clearly labeled the axes (Health Score Difference and Frequency) and provided a descriptive title.\n",
    "\n",
    "● Source: The sources point out that the number of bins in a histogram can significantly impact its interpretation. You are encouraged to experiment with different bin sizes to explore these effects ().\n",
    "Analyzing the Null Hypothesis of \"No Effect\":\n",
    "You then asked about drawing conclusions regarding a null hypothesis of \"no effect,\" meaning the vaccine doesn't impact health scores. We turned to the concept of bootstrapping, a simulation-based approach to statistical inference heavily emphasized in the sources ().\n",
    "Key Considerations from the Sources (Bootstrapping):\n",
    "\n",
    "● Source: The sources repeatedly use bootstrapping to create confidence intervals, which we can use to assess the null hypothesis ().\n",
    "\n",
    "● Source: They highlight that a confidence interval containing zero would lead us to fail to reject the null hypothesis, while a confidence interval not containing zero would suggest we reject the null hypothesis ().\n",
    "Further Considerations and Limitations:\n",
    "Recognizing the limitations of our small dataset (10 patients), we discussed additional factors that could influence our analysis. We drew heavily on the sources' emphasis on understanding the broader data context and considering potential biases ().\n",
    "Key Considerations from the Sources (Data Context and Limitations):\n",
    "\n",
    "● Source: The sources consistently caution against overinterpreting results from small datasets (). Our analysis would benefit significantly from a larger, more representative sample ().\n",
    "\n",
    "● Source: They highlight the importance of considering confounding variables such as age, gender, and other health factors that could influence outcomes (). We discussed how these factors could be skewing our current analysis.\n",
    "\n",
    "● Source: The sources bring up the importance of randomization and control groups in studies like this to isolate the vaccine's true effect from other influences (). Without this information, our conclusions are less definitive.\n",
    "Additional Insights:\n",
    "We also briefly touched upon the distinction between statistical significance and practical significance, a concept not explicitly covered in your provided sources. It's crucial to remember that a statistically significant difference might not always translate to a meaningful real-world impact.\n",
    "Overall, our conversation highlighted the value of data visualization and the power of bootstrapping in analyzing data. However, the limitations of our dataset, particularly the small sample size and lack of information on randomization and control groups, make it essential to interpret our findings with a great deal of caution. The sources provided a solid foundation for our analysis, but as they primarily focus on introductory concepts, you would likely benefit from consulting additional resources on hypothesis testing and experimental design for a more comprehensive understanding."
   ]
  },
  {
   "cell_type": "markdown",
   "id": "016bc112",
   "metadata": {},
   "source": [
    "# Post-lecture HW Q9"
   ]
  },
  {
   "cell_type": "markdown",
   "id": "a08a9aaf",
   "metadata": {},
   "source": [
    "Yes"
   ]
  }
 ],
 "metadata": {
  "kernelspec": {
   "display_name": "Python 3 (ipykernel)",
   "language": "python",
   "name": "python3"
  },
  "language_info": {
   "codemirror_mode": {
    "name": "ipython",
    "version": 3
   },
   "file_extension": ".py",
   "mimetype": "text/x-python",
   "name": "python",
   "nbconvert_exporter": "python",
   "pygments_lexer": "ipython3",
   "version": "3.11.6"
  }
 },
 "nbformat": 4,
 "nbformat_minor": 5
}

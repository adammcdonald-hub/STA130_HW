{
 "cells": [
  {
   "cell_type": "markdown",
   "id": "9ec26dd6",
   "metadata": {},
   "source": [
    "# Pre-Lecture HW Q1"
   ]
  },
  {
   "cell_type": "markdown",
   "id": "4d6f07db",
   "metadata": {},
   "source": [
    "The summary of the Q1 chatbot session will be included in the later summary."
   ]
  },
  {
   "cell_type": "markdown",
   "id": "d5b392d8",
   "metadata": {},
   "source": [
    "# Pre-Lecture HW Q1"
   ]
  },
  {
   "cell_type": "markdown",
   "id": "ac062597",
   "metadata": {},
   "source": [
    "One of my biggest preferences with the improved code is the use of more descriptive variable names to improve readability. For example, the code uses names like wins and winning_door instead of i_won and secret_winning_door improves code, which improve readability. I also prefered the simplified door handling. The streamlined code employs list comprehensions to directly identify appropriate doors for the host's reveal and the player's swap, so streamlining the logic and eliminating the need for repetitive removal and addition of doors from a list."
   ]
  },
  {
   "cell_type": "code",
   "execution_count": null,
   "id": "26e3cb53",
   "metadata": {},
   "outputs": [],
   "source": [
    "import numpy as np\n",
    "\n",
    "# Define door options\n",
    "doors = [1-3]\n",
    "\n",
    "# Number of simulations\n",
    "reps = 100000\n",
    "\n",
    "# Set the win count to zero\n",
    "wins = 0\n",
    "\n",
    "for _ in range(reps):\n",
    "  # Choose the winning door and the player's original selection at random\n",
    "  winning_door = np.random.choice(doors)\n",
    "  player_choice = np.random.choice(doors)\n",
    "\n",
    "  # Choose the doors that the host can unveil (it can't be the player's option, it has to be a \"goat\" door)\n",
    "  reveal_options = [door for door in doors if door != winning_door and door != player_choice]\n",
    "  host_reveal = np.random.choice(reveal_options)\n",
    "\n",
    "  #Switch to the opposite unopened door to simulate the swap.\n",
    "  player_choice = [door for door in doors if door != host_reveal and door != player_choice]\n",
    "\n",
    "  # Check if the player won after swapping\n",
    "  if player_choice == winning_door:\n",
    "    wins += 1\n",
    "\n",
    "# Calculate and print the win probability\n",
    "print(wins / reps)"
   ]
  },
  {
   "cell_type": "markdown",
   "id": "889ce4ce",
   "metadata": {},
   "source": [
    "Summary:\n",
    "\n",
    "You initially provided Python code intended to simulate the Monty Hall problem and calculate the winning probability when using the swapping strategy. You asked for a breakdown and explanation of your code.\n",
    "The code you shared aimed to simulate choosing doors, the host's action of revealing a \"goat\" door, and the player's decision to switch doors. By repeating this simulation many times, it calculates the proportion of wins to approximate the probability of winning when swapping doors.\n",
    "Your code used a for loop to iterate through the simulations. It randomly selected a winning door and the player's initial door choice using np.random.choice(). It then removed the winning door from the list of potential \"goat\" doors to ensure the host wouldn't reveal it. Next, it simulated the host's action by randomly selecting and revealing a \"goat\" door from the remaining options.\n",
    "After the host revealed a \"goat\" door, your code simulated the swapping strategy by having the player switch to the other unopened door. Finally, it checked if the player's choice matched the winning door after swapping and updated the win count accordingly.\n",
    "You then asked for an improved, simpler, and more streamlined version of your original simulation code. In response, a streamlined version of your code was provided that leverages list comprehensions to simplify the process of identifying suitable doors for the host's reveal and the player's swap. It also used more descriptive variable names and eliminated the try-except block, resulting in more readable and understandable code.\n",
    "The sources you provided, while containing information about coding concepts used in your script, did not directly discuss the Monty Hall problem. Therefore, the provided summary, explanations, and improved code example are based on our conversation history and general knowledge about the Monty Hall problem, and might need to be independently verified for accuracy."
   ]
  },
  {
   "cell_type": "markdown",
   "id": "33f3e110",
   "metadata": {},
   "source": [
    "# Pre-Lecture HW Q4"
   ]
  },
  {
   "cell_type": "markdown",
   "id": "d2eb4dbc",
   "metadata": {},
   "source": [
    "Summary:\n",
    "\n",
    "You began by presenting code intended to embed a YouTube video with the ID \"56mGTszb_iM\" in a Jupyter Notebook. You then asked how the \"Markovian ChatBot code\" works, likely referring to the content of the YouTube video.\n",
    "While the sources do not analyze the specific code from the video, they offer insights into Markovian Chatbots. They explain that Chatbots often use Markov chains, such as Bigram and Trigram models. These models predict the probability of the next word in a sequence based on the preceding word(s).\n",
    "The sources emphasize essential Python concepts for building a Markovian Chatbot:\n",
    "\n",
    "● Simulating Probability Distributions: Libraries like scipy.stats help model the probabilities of different words following each other.\n",
    "\n",
    "● Text Manipulation: Python's string manipulation tools are crucial for processing text data, breaking it down for analysis.\n",
    "\n",
    "● Conditional Probability: The likelihood of a word occurring based on preceding words is key to Markovian Chatbots.\n",
    "For a comprehensive understanding, watching the YouTube video and exploring the mentioned concepts within the sources is recommended."
   ]
  },
  {
   "cell_type": "markdown",
   "id": "4e3b7d7f",
   "metadata": {},
   "source": [
    "# Post-Lecture HW Q5"
   ]
  },
  {
   "cell_type": "markdown",
   "id": "a12c1f5b",
   "metadata": {},
   "source": [
    "Summary of original Chatbot session:\n",
    "\n",
    "You began by presenting a snippet of Python code that extended a simple Markovian chatbot to incorporate bigram functionality. You then presented another code extension that further enhanced the chatbot to create a character-specific bigram language model.\n",
    "Your code extensions and explanations demonstrate a clear understanding of:\n",
    "\n",
    "● Bigram Language Models: You accurately implemented and explained the transition from unigram to bigram models, highlighting the benefits of incorporating more context in text generation.\n",
    "\n",
    "● Conditional Probability: You effectively connected the data structures used in your code (nested dictionaries) to the concept of conditional probability, showing how the code calculates the probability of a word given the preceding bigram.\n",
    "\n",
    "● Character-Specific Modeling: Your extension demonstrated the ability to build separate language models for different characters, enhancing the chatbot's ability to mimic individual speaking styles.\n",
    "The code you presented and the explanations you provided align well with the concepts covered in your provided source materials, although the sources do not directly analyze your specific code implementation. For example:\n",
    "\n",
    "● Week 02 Coding section of \"00-STA130-Course-Wiki-Textbook (1).md\" introduces key data types like tuples, lists, dictionaries, and np.arrays, and control flow mechanisms like for loops and if/else statements, all of which are used in your code.\n",
    "\n",
    "● Week 02 Probability and Coding section of \"Week_02.md\" discusses concepts like conditional probability and independence, providing a theoretical foundation for the bigram model you implemented.\n",
    "\n",
    "● Both sources emphasize the use of dictionaries and text manipulation techniques for building language models, which are evident in your code extensions.\n",
    "Your interaction suggests you are effectively engaging with the course material and are capable of applying the concepts to more complex coding scenarios."
   ]
  },
  {
   "cell_type": "markdown",
   "id": "079c52db",
   "metadata": {},
   "source": [
    "Summary of new Chatbot session:\n",
    "\n",
    "You shared an extension to the Markovian Chatbot code and asked for an explanation of its functionality. The code you shared is not directly found in the sources. You also asked about the character-specific model selection and bigram-based text generation in the code.\n",
    "The response explained the provided code snippet in detail, addressing its functionality, character-specific model selection, and bigram-based text generation aspects. Here's a breakdown of those explanations:\n",
    "\n",
    "● Extended Markovian Chatbot Code Explanation: This part broke down the code into three sections: importing libraries and initializing variables, iterating through words and building character-specific Markov chains, and updating word pair and next word counts. Each section's purpose and how they work together to create a more context-aware chatbot were clarified.\n",
    "\n",
    "● Character-Specific Model Selection: This section explained how the code identifies the speaking character from the input text by matching words against a list of character names. It then detailed how separate Markov chains are created and updated for each character using the word_used2C and next_word2C dictionaries.\n",
    "\n",
    "● Bigram-Based Text Generation: This section discussed the formation of bigrams (two-word sequences) and how their transitions are tracked. It explained how the code uses the word_used2C and next_word2C dictionaries to store and update bigram counts and their subsequent word occurrences for each character. It also touched upon how the model utilizes these bigrams for generating more coherent and contextually appropriate text.\n",
    "The responses emphasized that these explanations are based on the understanding of common programming practices, Markov chain models, and the code snippet you provided, as this specific code is not found in the provided sources."
   ]
  },
  {
   "cell_type": "markdown",
   "id": "dcdbb391",
   "metadata": {},
   "source": [
    "# Post-Lecture HW Q6"
   ]
  },
  {
   "cell_type": "markdown",
   "id": "01193ff1",
   "metadata": {},
   "source": [
    "1.\n",
    "The chatbot was very quick to help me understand the understand the Monte Hall problem and \"Markovian ChatBot\" code. Even when I put up the intentional roadblocks from the homework questions to try and slow it down, it was still able to be helpful in some way. The most useful way that the chatbot was able to help me was breaking down the code into seperate pieces to make them easier to understand. In the case of the Monte Hall problem, the chatbot also quickley made the code more streamline and easier to understand."
   ]
  },
  {
   "cell_type": "markdown",
   "id": "eb03eb1e",
   "metadata": {},
   "source": [
    "2.\n",
    "I did not find interacting with ChatBot frustrating of unhelpful, it was very helpful and easy to understand."
   ]
  },
  {
   "cell_type": "markdown",
   "id": "06fc5010",
   "metadata": {},
   "source": [
    "3.\n",
    "Overall, I'd say that the Chatbots have been very useful as tools to help me understand code. Moreso, I'd say the chatbot became more and more helpful as the session progressed, which I'd assume is a result of it gathering more information. When you have long sequences of code, I sometimes have difficulty understanding what the different segments do. But the chatbot seperates these segmments into different pieces to make them easier to understand."
   ]
  },
  {
   "cell_type": "markdown",
   "id": "73588726",
   "metadata": {},
   "source": [
    "# Post-Lecture HW Q7"
   ]
  },
  {
   "cell_type": "markdown",
   "id": "b6c393f8",
   "metadata": {},
   "source": [
    "Prior to starting this course, my knowledge of ai chatbots was pretty limited. The idead that it could be used to help write code was completely new to me. Since then however, I have come to realize how helpful a chatbot can be in understanding code and how it can be used to make writing code quickey."
   ]
  },
  {
   "cell_type": "markdown",
   "id": "89562ee6",
   "metadata": {},
   "source": [
    "# Post-Lecture HW Q8"
   ]
  },
  {
   "cell_type": "markdown",
   "id": "66c58396",
   "metadata": {},
   "source": [
    "Summary:\n",
    "\n",
    "This conversation explored the importance of coding and data analysis skills in the context of learning statistics and data science, and their relevance to career opportunities in these fields.\n",
    "The conversation began with a question about the broader relevance of learning and adaptability, communication, coding, and statistics and data analysis as skills in the modern world, particularly in relation to career opportunities. The response highlighted the heavy emphasis placed on these skills in the provided sources, which focused on a university-level statistics course.\n",
    "The response specifically pointed to the integration of ChatBots, Jupyter Notebooks, and GitHub as evidence of these tools' importance in data science, suggesting their relevance extends beyond the classroom. The response concluded that these skills are highly valuable for individuals interested in data science careers.\n",
    "The second question directly asked if becoming a statistician or data scientist without coding or data analysis is possible. The response definitively stated that it is highly unlikely.\n",
    "This assertion was supported by highlighting the curriculum and tools used in the university course outlined in the sources. \"00-STA130-Course-Wiki-Textbook (1).md,\" for example, showcases a curriculum deeply entwined with coding, requiring students to use Python libraries like pandas and NumPy to complete assignments related to data summarization, visualization, hypothesis testing, and regression analysis.\n",
    "The repeated emphasis on coding and data analysis in the sources, both in terms of coursework and tools, led to the conclusion that these technical skills are not optional, but rather, prerequisites for success in statistics and data science."
   ]
  },
  {
   "cell_type": "markdown",
   "id": "3f323c56",
   "metadata": {},
   "source": [
    "# Post-Lecture HW Q9"
   ]
  },
  {
   "cell_type": "markdown",
   "id": "d0366257",
   "metadata": {},
   "source": [
    "Yes"
   ]
  }
 ],
 "metadata": {
  "kernelspec": {
   "display_name": "Python 3 (ipykernel)",
   "language": "python",
   "name": "python3"
  },
  "language_info": {
   "codemirror_mode": {
    "name": "ipython",
    "version": 3
   },
   "file_extension": ".py",
   "mimetype": "text/x-python",
   "name": "python",
   "nbconvert_exporter": "python",
   "pygments_lexer": "ipython3",
   "version": "3.11.6"
  }
 },
 "nbformat": 4,
 "nbformat_minor": 5
}

{
 "cells": [
  {
   "cell_type": "markdown",
   "id": "618c3a10",
   "metadata": {},
   "source": [
    "# Proposal 1"
   ]
  },
  {
   "cell_type": "markdown",
   "id": "b832cb2c",
   "metadata": {},
   "source": [
    "## Research Question"
   ]
  },
  {
   "cell_type": "markdown",
   "id": "15ab1dcd",
   "metadata": {},
   "source": [
    "Is there a connection between social connection and self-reported health outcomes?\n",
    "\n",
    "I got the idea for this question since it draws on the main objective of the CSCS and the course project, which is to investigate the link between social connection and well-being."
   ]
  },
  {
   "cell_type": "markdown",
   "id": "d2863b95",
   "metadata": {},
   "source": [
    "## Variables"
   ]
  },
  {
   "cell_type": "markdown",
   "id": "29f8188c",
   "metadata": {},
   "source": [
    "Predictor variable: The predictor variable will be a numeric variable measuring self-reported health outcomes.\n",
    "The first variable will be Loneliness_Score, where a higher score indicates greater loneliness. The second will be Belonging_Score, where higher scores indicate a greater sense of belonging. The third will be Social_Support_Score, where higher scores indicate stronger social support.\n",
    "\n",
    "Outcome Variable: The outcome variable will be A numeric variable capturing aspects of social connection.\n",
    "The first is SRH_Overall, wich is the self-rated overall health on a scale of 1 to 5. The second is SRH_Mental, which is the self-rated mental health on a scale of 1 to 5.\n",
    "The important variable here is SRH_Mental, since I'm really interested to know the effect of social connection on mental health. Though it would also be useful to know the connection to overall health as well.\n",
    "\n",
    "Scatter plots would be useful for visualizing the relationship between the two numeric variables, and I could add a fitted regression line enhance the scatter plots. This line would represent the best linear fit to the data and can help visualize the direction and strength of the association between the variables.\n",
    "In terms of summary statistics, I could use the correlation coefficient to measure the strength and direction of the linear association between two numeric variables. I could also calculate Means and Standard Deviations and use them to compare the levels of social connection and well-being across different demographic groups or time points."
   ]
  },
  {
   "cell_type": "markdown",
   "id": "aeea30a2",
   "metadata": {},
   "source": [
    "## Planned analysis"
   ]
  },
  {
   "cell_type": "markdown",
   "id": "9563c3fa",
   "metadata": {},
   "source": [
    "The analysis that I plan to perform for this research question is Simple Linear Regression. This analysis involves modelling the relationship between the predictor variable (X) and the outcome variable (Y).\n",
    "The first step will be to formulate null and alternative hypotheses. The null hypotheses will be that there is no linear association between the predictor variable, such as the loneliness score, and the outcome variable, such as the self-rated mental health, on average. The alternative hypothesis will be that there is a linear association between the predictor and outcome variables on average."
   ]
  },
  {
   "cell_type": "markdown",
   "id": "4a9bcd78",
   "metadata": {},
   "source": [
    "## Relevance to course project"
   ]
  },
  {
   "cell_type": "markdown",
   "id": "dd5dd2c5",
   "metadata": {},
   "source": [
    "This analysis would directly address the core objective of the course project by exploring the connection between social connection and well-being. The results of the anlysis could inform future research and social media campaigns aimed at raising awareness about the importance of social connection for personal health."
   ]
  },
  {
   "cell_type": "markdown",
   "id": "779b2fdc",
   "metadata": {},
   "source": [
    "# Proposal 2"
   ]
  },
  {
   "cell_type": "markdown",
   "id": "ec9b409e",
   "metadata": {},
   "source": [
    "## Research Question"
   ]
  },
  {
   "cell_type": "markdown",
   "id": "1b728e92",
   "metadata": {},
   "source": [
    "Have changes in social connectedness during the COVID-19 pandemic had an effect on well-being?\n",
    "\n",
    "I noticed the CSCS took place before, during, and after the pandemic, so I'm interested in how the dip in social connectedness affected well-being."
   ]
  },
  {
   "cell_type": "markdown",
   "id": "fd060865",
   "metadata": {},
   "source": [
    "## Variables"
   ]
  },
  {
   "cell_type": "markdown",
   "id": "622b973a",
   "metadata": {},
   "source": [
    "Predictor variable: The predictor variable will be a numeric value representing social connection. These variables will be ones that focus on frequency of social interactions, like Social_Support_Score, Civic_Engagement, Number_Close_Friends, and Frequency_Social_Interaction.\n",
    "\n",
    "Outcome variable: The outcome variable will be a numeric value representing well-being. These variables will be ones that focus on mental health specifically, like SRH_Mental, Life_Satisfaction, Happiness, Stress_Levels, and Anxiety_Levels.\n",
    "\n",
    "Scatter plots would be useful for visualizing the relationship between the two numeric variables, and I could add a fitted regression line enhance the scatter plots. This line would represent the best linear fit to the data and can help visualize the direction and strength of the association between the variables.\n",
    "In terms of summary statistics, I could use the correlation coefficient to measure the strength and direction of the linear association between two numeric variables. I could also calculate Means and Standard Deviations and use them to compare the levels of social connection and well-being across different demographic groups before, during, and after the pandemic."
   ]
  },
  {
   "cell_type": "markdown",
   "id": "d848c733",
   "metadata": {},
   "source": [
    "## Planned analysis"
   ]
  },
  {
   "cell_type": "markdown",
   "id": "84b0dcc8",
   "metadata": {},
   "source": [
    "The method of analysis that I plan to perform for this research question is hypothesis testing.\n",
    "The first step will be to formulate null and alternative hypotheses. The null hypotheses will be that there was no change in the average loneliness score of Canadians pre-pandemic and during the pandemic. The alternative hypothesis will be that there was a change in the average loneliness score of Canadians from pre-pandemic to during the pandemic.\n",
    "\n",
    "I also plan on doing a comparison of the results for different demographic groups."
   ]
  },
  {
   "cell_type": "markdown",
   "id": "a7a4f4de",
   "metadata": {},
   "source": [
    "## Relevance to Course Project"
   ]
  },
  {
   "cell_type": "markdown",
   "id": "31991965",
   "metadata": {},
   "source": [
    "This analysis explores changes in social connection and well-being over time, providing insights into the impact of the pandemic on Canadians. The findings could be highly relevant for future research, social media campaigns, and Rapid Evidence Briefs that aim to understand and address the long-term effects of the pandemic on social connectedness and well-being."
   ]
  },
  {
   "cell_type": "markdown",
   "id": "afabc431",
   "metadata": {},
   "source": [
    "# Proposal 3"
   ]
  },
  {
   "cell_type": "markdown",
   "id": "80f6579f",
   "metadata": {},
   "source": [
    "## Research Question"
   ]
  },
  {
   "cell_type": "markdown",
   "id": "b826dc70",
   "metadata": {},
   "source": [
    "Is there a relationship between Social Media use and well-being?\n",
    "\n",
    "The age-old question!"
   ]
  },
  {
   "cell_type": "markdown",
   "id": "c9dcd70d",
   "metadata": {},
   "source": [
    "## Variables"
   ]
  },
  {
   "cell_type": "markdown",
   "id": "ce97ed51",
   "metadata": {},
   "source": [
    "Predictor variable: The predictor variable will be a numeric value representing different aspects of social media use. The variables used will be SM_Time_Day, the average amount of time spent on social media per day, SM_Frequency, the frequency of social media use, and SM_Platforms, the number of different social media platforms used\n",
    "\n",
    "Outcome variable: The outcome variable will be a numeric value representing different aspects of well-being. The variables used will focus on mental health, like SRH_Mental, Loneliness_Score, Life_Satisfaction, Happiness, Stress_Levels, and Anxiety_Levels.\n",
    "\n",
    "Scatter plots would be useful for visualizing the relationship between the two numeric variables, and I could add a fitted regression line enhance the scatter plots. This line would represent the best linear fit to the data and can help visualize the direction and strength of the association between the variables.\n",
    "In terms of summary statistics, I could use the correlation coefficient to measure the strength and direction of the linear association between two numeric variables. I could also calculate Means and Standard Deviations and use them to compare the levels of social media use and well-being across different demographic groups or time points."
   ]
  },
  {
   "cell_type": "markdown",
   "id": "4d0a36e9",
   "metadata": {},
   "source": [
    "## Planned analysis"
   ]
  },
  {
   "cell_type": "markdown",
   "id": "e31623c3",
   "metadata": {},
   "source": [
    "The analysis that I plan to perform for this research question is Simple Linear Regression. This analysis involves modelling the relationship between the predictor variable (X) and the outcome variable (Y).\n",
    "The first step will be to formulate null and alternative hypotheses. The null hypotheses will be that there is no linear association between the chosen social media use variable and the well-being variable on average. There is a linear association between the social media use variable and the well-being variable on average.\n",
    "\n",
    "I also plan on doing a comparison of the results for different demographic groups."
   ]
  },
  {
   "cell_type": "markdown",
   "id": "96610b85",
   "metadata": {},
   "source": [
    "## Relevance to Course Project"
   ]
  },
  {
   "cell_type": "markdown",
   "id": "e7ecf6de",
   "metadata": {},
   "source": [
    "This analysis explores the relationship between social media use and well-being, a topic of considerable interest and relevance to researchers, policymakers, and the general public. The findings could contribute to the understanding of the potential benefits and drawbacks of social media use and inform the development of strategies to promote healthy social media practices."
   ]
  }
 ],
 "metadata": {
  "kernelspec": {
   "display_name": "Python 3 (ipykernel)",
   "language": "python",
   "name": "python3"
  },
  "language_info": {
   "codemirror_mode": {
    "name": "ipython",
    "version": 3
   },
   "file_extension": ".py",
   "mimetype": "text/x-python",
   "name": "python",
   "nbconvert_exporter": "python",
   "pygments_lexer": "ipython3",
   "version": "3.11.6"
  }
 },
 "nbformat": 4,
 "nbformat_minor": 5
}
